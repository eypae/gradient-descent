{
  "nbformat": 4,
  "nbformat_minor": 0,
  "metadata": {
    "colab": {
      "name": "gradient decent / Linear / Logistic Regression.ipynb",
      "provenance": []
    },
    "kernelspec": {
      "name": "python3",
      "display_name": "Python 3"
    }
  },
  "cells": [
    {
      "cell_type": "markdown",
      "metadata": {
        "id": "T03Df5vtKMrx"
      },
      "source": [
        "## Example of gradient decent"
      ]
    },
    {
      "cell_type": "code",
      "metadata": {
        "id": "_y_l7Br5Tl3L"
      },
      "source": [
        "import math\n",
        "\n",
        "# f(x) = log(x) * log(x)\n",
        "# f(x) = x*x + 4*x + 9\n",
        "\n",
        "def fn(x):\n",
        "  # return math.pow((math.log(x)), 2)\n",
        "  return x*x + 4*x + 9\n",
        "\n",
        "def derivative_fn(x):\n",
        "  # return 2.0 * math.log(x) / x\n",
        "  return 2*x + 4\n",
        "\n",
        "def gradient_descent(x, learning_rate, steps=20):\n",
        "  print (f\"Starting at: x={x} and f({x})={fn(x)}\")\n",
        "  for step in range(steps):\n",
        "    x = x - learning_rate * derivative_fn(x) \n",
        "    print(f\"step: {step + 1}, x={x}, f({x})={fn(x)}\")\n",
        "  return x"
      ],
      "execution_count": 75,
      "outputs": []
    },
    {
      "cell_type": "code",
      "source": [
        "# learning rate is too small\n",
        "x_learned = gradient_descent(x=2.0, learning_rate=0.01)"
      ],
      "metadata": {
        "colab": {
          "base_uri": "https://localhost:8080/"
        },
        "id": "v2nGnjGgBSxO",
        "outputId": "465d5058-fbbb-4a15-888b-9940e2b3f545"
      },
      "execution_count": 76,
      "outputs": [
        {
          "output_type": "stream",
          "name": "stdout",
          "text": [
            "Starting at: x=2.0 and f(2.0)=21.0\n",
            "step: 1, x=1.92, f(1.92)=20.3664\n",
            "step: 2, x=1.8416, f(1.8416)=19.75789056\n",
            "step: 3, x=1.764768, f(1.764768)=19.173478093824\n",
            "step: 4, x=1.68947264, f(1.68947264)=18.612208361308568\n",
            "step: 5, x=1.6156831872, f(1.6156831872)=18.07316491020075\n",
            "step: 6, x=1.5433695234559999, f(1.5433695234559999)=17.5554675797568\n",
            "step: 7, x=1.47250213298688, f(1.47250213298688)=17.058271063598433\n",
            "step: 8, x=1.4030520903271424, f(1.4030520903271424)=16.58076352947993\n",
            "step: 9, x=1.3349910485205996, f(1.3349910485205996)=16.122165293712527\n",
            "step: 10, x=1.2682912275501876, f(1.2682912275501876)=15.681727548081511\n",
            "step: 11, x=1.2029254029991838, f(1.2029254029991838)=15.258731137177485\n",
            "step: 12, x=1.1388668949392002, f(1.1388668949392002)=14.852485384145256\n",
            "step: 13, x=1.0760895570404163, f(1.0760895570404163)=14.462326962933105\n",
            "step: 14, x=1.014567765899608, f(1.014567765899608)=14.087618815200955\n",
            "step: 15, x=0.9542764105816158, f(0.9542764105816158)=13.727749110118996\n",
            "step: 16, x=0.8951908823699835, f(0.8951908823699835)=13.382130245358283\n",
            "step: 17, x=0.8372870647225837, f(0.8372870647225837)=13.050197887642096\n",
            "step: 18, x=0.7805413234281321, f(0.7805413234281321)=12.73141005129147\n",
            "step: 19, x=0.7249304969595695, f(0.7249304969595695)=12.425246213260326\n",
            "step: 20, x=0.670431887020378, f(0.670431887020378)=12.131206463215218\n"
          ]
        }
      ]
    },
    {
      "cell_type": "code",
      "source": [
        "# learning rate is just nice\n",
        "x_learned = gradient_descent(x=2.0, learning_rate=0.4)"
      ],
      "metadata": {
        "colab": {
          "base_uri": "https://localhost:8080/"
        },
        "id": "8ItStt3iBLaT",
        "outputId": "112a5cef-ff92-464b-a3c6-cb196963aba6"
      },
      "execution_count": 77,
      "outputs": [
        {
          "output_type": "stream",
          "name": "stdout",
          "text": [
            "Starting at: x=2.0 and f(2.0)=21.0\n",
            "step: 1, x=-1.2000000000000002, f(-1.2000000000000002)=5.64\n",
            "step: 2, x=-1.84, f(-1.84)=5.0256\n",
            "step: 3, x=-1.968, f(-1.968)=5.001024\n",
            "step: 4, x=-1.9936, f(-1.9936)=5.00004096\n",
            "step: 5, x=-1.99872, f(-1.99872)=5.000001638400001\n",
            "step: 6, x=-1.999744, f(-1.999744)=5.000000065536\n",
            "step: 7, x=-1.9999488, f(-1.9999488)=5.00000000262144\n",
            "step: 8, x=-1.99998976, f(-1.99998976)=5.0000000001048575\n",
            "step: 9, x=-1.999997952, f(-1.999997952)=5.000000000004194\n",
            "step: 10, x=-1.9999995904, f(-1.9999995904)=5.000000000000168\n",
            "step: 11, x=-1.99999991808, f(-1.99999991808)=5.000000000000007\n",
            "step: 12, x=-1.999999983616, f(-1.999999983616)=5.0\n",
            "step: 13, x=-1.9999999967232, f(-1.9999999967232)=5.0\n",
            "step: 14, x=-1.99999999934464, f(-1.99999999934464)=5.0\n",
            "step: 15, x=-1.999999999868928, f(-1.999999999868928)=5.0\n",
            "step: 16, x=-1.9999999999737856, f(-1.9999999999737856)=5.0\n",
            "step: 17, x=-1.999999999994757, f(-1.999999999994757)=5.0\n",
            "step: 18, x=-1.9999999999989515, f(-1.9999999999989515)=5.0\n",
            "step: 19, x=-1.9999999999997904, f(-1.9999999999997904)=5.0\n",
            "step: 20, x=-1.999999999999958, f(-1.999999999999958)=5.0\n"
          ]
        }
      ]
    },
    {
      "cell_type": "code",
      "source": [
        "# learning rate is too large -> divergence\n",
        "x_learned = gradient_descent(x=2.0, learning_rate=10)"
      ],
      "metadata": {
        "colab": {
          "base_uri": "https://localhost:8080/"
        },
        "id": "Sff3TzU4_qdr",
        "outputId": "8012b16c-e162-4adb-b733-b6dd9c1b059a"
      },
      "execution_count": 78,
      "outputs": [
        {
          "output_type": "stream",
          "name": "stdout",
          "text": [
            "Starting at: x=2.0 and f(2.0)=21.0\n",
            "step: 1, x=-78.0, f(-78.0)=5781.0\n",
            "step: 2, x=1442.0, f(1442.0)=2085141.0\n",
            "step: 3, x=-27438.0, f(-27438.0)=752734101.0\n",
            "step: 4, x=521282.0, f(521282.0)=271737008661.0\n",
            "step: 5, x=-9904398.0, f(-9904398.0)=98097060124821.0\n",
            "step: 6, x=188183522.0, f(188183522.0)=3.541303870505858e+16\n",
            "step: 7, x=-3575486958.0, f(-3575486958.0)=1.2784106972526146e+19\n",
            "step: 8, x=67934252162.0, f(67934252162.0)=4.6150626170819387e+21\n",
            "step: 9, x=-1290750791118.0, f(-1290750791118.0)=1.6660376047665797e+24\n",
            "step: 10, x=24524265031202.0, f(24524265031202.0)=6.0143957532073536e+26\n",
            "step: 11, x=-465961035592878.0, f(-465961035592878.0)=2.1711968669078544e+29\n",
            "step: 12, x=8853259676264642.0, f(8853259676264642.0)=7.838020689537355e+31\n",
            "step: 13, x=-1.6821193384902822e+17, f(-1.6821193384902822e+17)=2.8295254689229845e+34\n",
            "step: 14, x=3.1960267431315364e+18, f(3.1960267431315364e+18)=1.0214586942811976e+37\n",
            "step: 15, x=-6.0724508119499194e+19, f(-6.0724508119499194e+19)=3.687465886355124e+39\n",
            "step: 16, x=1.1537656542704848e+21, f(1.1537656542704848e+21)=1.3311751849741998e+42\n",
            "step: 17, x=-2.192154743113921e+22, f(-2.192154743113921e+22)=4.805542417756861e+44\n",
            "step: 18, x=4.1650940119164505e+23, f(4.1650940119164505e+23)=1.7348008128102274e+47\n",
            "step: 19, x=-7.913678622641256e+24, f(-7.913678622641256e+24)=6.26263093424492e+49\n",
            "step: 20, x=1.5035989383018386e+26, f(1.5035989383018386e+26)=2.260809767262416e+52\n"
          ]
        }
      ]
    },
    {
      "cell_type": "markdown",
      "metadata": {
        "id": "-4W0UMc_ZpPO"
      },
      "source": [
        "## Using TensorFlow"
      ]
    },
    {
      "cell_type": "code",
      "metadata": {
        "id": "VRpZMOcwTNbC",
        "colab": {
          "base_uri": "https://localhost:8080/"
        },
        "outputId": "18c27c82-7b16-47b3-ae51-2daf42148a6b"
      },
      "source": [
        "# import tensorflow as tf\n",
        "import tensorflow.compat.v1 as tf\n",
        "tf.disable_eager_execution()\n",
        "\n",
        "def fn_t(x):\n",
        "  # return tf.square(tf.log(x))\n",
        "  return tf.square(x) + 4 * x + 9\n",
        "\n",
        "x = tf.Variable(2, name='x', dtype=tf.float32)\n",
        "y = fn_t(x)\n",
        "\n",
        "optimizer = tf.train.GradientDescentOptimizer(0.4)\n",
        "train = optimizer.minimize(y)\n",
        "\n",
        "init = tf.initialize_all_variables()\n",
        "\n",
        "def optimize(steps=20):\n",
        "  with tf.Session() as session:\n",
        "    session.run(init)\n",
        "    print (f\"Starting at: x={session.run(x)} and f({session.run(x)})={session.run(y)}\")\n",
        "    for step in range(steps):  \n",
        "      session.run(train)\n",
        "      print(f\"step: {step + 1}, x={session.run(x)} and f({session.run(x)})={session.run(y)}\")        \n",
        "\n",
        "optimize()"
      ],
      "execution_count": 79,
      "outputs": [
        {
          "output_type": "stream",
          "name": "stdout",
          "text": [
            "Starting at: x=2.0 and f(2.0)=21.0\n",
            "step: 1, x=-1.2000000476837158 and f(-1.2000000476837158)=5.639999866485596\n",
            "step: 2, x=-1.840000033378601 and f(-1.840000033378601)=5.025599956512451\n",
            "step: 3, x=-1.968000054359436 and f(-1.968000054359436)=5.00102424621582\n",
            "step: 4, x=-1.9936000108718872 and f(-1.9936000108718872)=5.0000410079956055\n",
            "step: 5, x=-1.9987200498580933 and f(-1.9987200498580933)=5.000001907348633\n",
            "step: 6, x=-1.9997440576553345 and f(-1.9997440576553345)=5.0\n",
            "step: 7, x=-1.9999488592147827 and f(-1.9999488592147827)=5.0\n",
            "step: 8, x=-1.9999897480010986 and f(-1.9999897480010986)=5.0\n",
            "step: 9, x=-1.9999979734420776 and f(-1.9999979734420776)=5.0\n",
            "step: 10, x=-1.9999996423721313 and f(-1.9999996423721313)=5.0\n",
            "step: 11, x=-1.9999998807907104 and f(-1.9999998807907104)=5.0\n",
            "step: 12, x=-2.0 and f(-2.0)=5.0\n",
            "step: 13, x=-2.0 and f(-2.0)=5.0\n",
            "step: 14, x=-2.0 and f(-2.0)=5.0\n",
            "step: 15, x=-2.0 and f(-2.0)=5.0\n",
            "step: 16, x=-2.0 and f(-2.0)=5.0\n",
            "step: 17, x=-2.0 and f(-2.0)=5.0\n",
            "step: 18, x=-2.0 and f(-2.0)=5.0\n",
            "step: 19, x=-2.0 and f(-2.0)=5.0\n",
            "step: 20, x=-2.0 and f(-2.0)=5.0\n"
          ]
        }
      ]
    },
    {
      "cell_type": "markdown",
      "metadata": {
        "id": "E1EqYaNvKiVb"
      },
      "source": [
        "## Linear Regression"
      ]
    },
    {
      "cell_type": "code",
      "metadata": {
        "id": "Q4OPW9ZkUbpR"
      },
      "source": [
        "import time\n",
        "import numpy as np\n",
        "\n",
        "# Dimension of input data\n",
        "n_data, n_feature = 1000, 20\n",
        "\n",
        "# Randomly initialized data, stacked with bias\n",
        "X = np.hstack((np.random.rand(n_data, n_feature), \n",
        "               np.ones((n_data, 1), dtype=float)))\n",
        "\n",
        "# Choose the weights to be [1, 2, 3, ... , 21]\n",
        "w = np.array(range(1, n_feature + 2), dtype=float)\n",
        "y = np.dot(X, w) # + np.random.normal(0, 100)"
      ],
      "execution_count": 80,
      "outputs": []
    },
    {
      "cell_type": "markdown",
      "metadata": {
        "id": "9KwUqioCGydN"
      },
      "source": [
        "Given $\\mathbf{X}$ and $\\mathbf{y}$, objective: compute $\\mathbf{w}$\n",
        "\n",
        "Data: $(\\mathbf{x}_1, y_1), (\\mathbf{x}_2, y_2), \\cdots, (\\mathbf{x}_n, y_n)$, where $\\mathbf{x}_i \\in R^{k+1}$\n",
        "\n",
        "Loss function: $\\displaystyle \\text{Loss}(w_0, w_1, \\cdots, w_k) = \\frac{1}{2n}\\sum_{i=1}^n\\left ( \\sum_{j=0}^kw_jx_{ij}-y_i\\right ) ^2$ \n",
        "\n",
        "Gradient: $\\displaystyle \\frac{\\partial }{\\partial w_j} \\text{Loss} (w_0, w_1, \\cdots, w_k) = \\frac{1}{n} \\sum_{i=1}^n \\left ( \\sum_{j=0}^kw_jx_{ij}-y_i\\right ) \\frac{\\partial }{\\partial w_j} \\left ( \\sum_{j=0}^kw_jx_{ij}-y_i\\right ) = \\frac{1}{n} \\sum_{i=1}^n \\left ( \\sum_{j=0}^kw_jx_{ij}-y_i\\right ) x_{ij } $"
      ]
    },
    {
      "cell_type": "code",
      "metadata": {
        "id": "6VyBdSMVBkEf"
      },
      "source": [
        "def loss(w, X, y):\n",
        "  # squared loss\n",
        "  return np.sum(np.square(np.dot(X, w) - y)) / (X.shape[0] * 2)\n",
        "\n",
        "def gradient(w, X, y, j):\n",
        "  return np.dot(np.dot(X, w) - y, X[:,j]) / X.shape[0]\n",
        "\n",
        "def gradient_vec(w, X, y):\n",
        "  return np.dot(np.transpose(X), np.dot(X, w) - y) / X.shape[0]\n",
        "\n",
        "def gradient_decent(w, X, y, learning_rate, steps):\n",
        "  freq = steps // 10\n",
        "  losses = []\n",
        "  for i in range(steps):\n",
        "    # for each step\n",
        "    gradients = np.zeros(w.shape[0])\n",
        "    for j in range(w.shape[0]):\n",
        "      gradients[j] = gradient(w, X, y, j)\n",
        "    w -= learning_rate * gradients\n",
        "    current_loss = loss(w, X, y)\n",
        "    if (i + 1) % freq == 0:\n",
        "      print (f'step: {i+1}, Loss: {current_loss}')\n",
        "    losses.append(np.log(current_loss))\n",
        "  return w, losses\n",
        "\n",
        "def gradient_decent_vec(w, X, y, learning_rate, steps):\n",
        "  freq = steps // 10\n",
        "  losses = []\n",
        "  for i in range(steps):\n",
        "      # for each step\n",
        "      w -= learning_rate * gradient_vec(w, X, y)\n",
        "      current_loss = loss(w, X, y)\n",
        "      if (i + 1) % freq == 0:\n",
        "          print (f'step: {i+1}, Loss: {current_loss}')\n",
        "      losses.append(np.log(current_loss))\n",
        "  return w, losses"
      ],
      "execution_count": 81,
      "outputs": []
    },
    {
      "cell_type": "code",
      "metadata": {
        "id": "jJIV5kjtMzhV",
        "colab": {
          "base_uri": "https://localhost:8080/"
        },
        "outputId": "03e9c76c-b0dc-46ab-c20a-33ea93f0972f"
      },
      "source": [
        "# Initialize some random weights\n",
        "w_init = np.random.normal(0, 1, w.shape[0])\n",
        "w_init"
      ],
      "execution_count": 82,
      "outputs": [
        {
          "output_type": "execute_result",
          "data": {
            "text/plain": [
              "array([ 1.11403254,  0.2497122 , -0.59610286, -1.26735673,  0.81226014,\n",
              "       -2.31975396, -0.81921571, -0.85419125, -1.07098311, -1.12447776,\n",
              "        0.4116886 , -1.33279818,  0.47548034,  1.0690443 ,  0.08146101,\n",
              "        0.654298  , -0.46022411, -0.67774004,  0.84966694, -1.00914014,\n",
              "        0.03908913])"
            ]
          },
          "metadata": {},
          "execution_count": 82
        }
      ]
    },
    {
      "cell_type": "code",
      "metadata": {
        "id": "g5P72_lEHF3c",
        "colab": {
          "base_uri": "https://localhost:8080/"
        },
        "outputId": "928ed159-989d-4eb4-d5d1-7dce2d8c8406"
      },
      "source": [
        "w_current_init = np.copy(w_init)\n",
        "start_time = time.time()\n",
        "w_learned, _ = gradient_decent(w_current_init, X, y, 0.25, 10000)\n",
        "print(\"--- %s seconds ---\" % (time.time() - start_time))"
      ],
      "execution_count": 83,
      "outputs": [
        {
          "output_type": "stream",
          "name": "stdout",
          "text": [
            "step: 1000, Loss: 8.860487431332342e-09\n",
            "step: 2000, Loss: 8.327298546481568e-12\n",
            "step: 3000, Loss: 7.826196593873592e-15\n",
            "step: 4000, Loss: 7.355238216607263e-18\n",
            "step: 5000, Loss: 6.912430042100228e-21\n",
            "step: 6000, Loss: 6.4969216963390476e-24\n",
            "step: 7000, Loss: 7.431700815906107e-27\n",
            "step: 8000, Loss: 3.4087878783175856e-27\n",
            "step: 9000, Loss: 3.4087878783175856e-27\n",
            "step: 10000, Loss: 3.4087878783175856e-27\n",
            "--- 4.735096216201782 seconds ---\n"
          ]
        }
      ]
    },
    {
      "cell_type": "code",
      "metadata": {
        "id": "F__u9QdlHVye",
        "colab": {
          "base_uri": "https://localhost:8080/"
        },
        "outputId": "cdbd4203-5e39-4d3f-df80-f231b0294350"
      },
      "source": [
        "w_learned"
      ],
      "execution_count": 84,
      "outputs": [
        {
          "output_type": "execute_result",
          "data": {
            "text/plain": [
              "array([ 1.,  2.,  3.,  4.,  5.,  6.,  7.,  8.,  9., 10., 11., 12., 13.,\n",
              "       14., 15., 16., 17., 18., 19., 20., 21.])"
            ]
          },
          "metadata": {},
          "execution_count": 84
        }
      ]
    },
    {
      "cell_type": "code",
      "source": [
        "w_current_init = np.copy(w_init)\n",
        "start_time = time.time()\n",
        "w_learned_vec, _ = gradient_decent_vec(w_current_init, X, y, 0.25, 10000)\n",
        "print(\"--- %s seconds ---\" % (time.time() - start_time))"
      ],
      "metadata": {
        "colab": {
          "base_uri": "https://localhost:8080/"
        },
        "id": "fVAy_MwXHvbN",
        "outputId": "5aa77858-0435-4f89-d810-f2631fb1e9b4"
      },
      "execution_count": 85,
      "outputs": [
        {
          "output_type": "stream",
          "name": "stdout",
          "text": [
            "step: 1000, Loss: 8.860487431396525e-09\n",
            "step: 2000, Loss: 8.327298560292563e-12\n",
            "step: 3000, Loss: 7.826196082159742e-15\n",
            "step: 4000, Loss: 7.355246047287418e-18\n",
            "step: 5000, Loss: 6.913152430783541e-21\n",
            "step: 6000, Loss: 6.498191547826287e-24\n",
            "step: 7000, Loss: 7.076877491624939e-27\n",
            "step: 8000, Loss: 3.505420183763539e-27\n",
            "step: 9000, Loss: 3.505420183763539e-27\n",
            "step: 10000, Loss: 3.505420183763539e-27\n",
            "--- 0.7970402240753174 seconds ---\n"
          ]
        }
      ]
    },
    {
      "cell_type": "code",
      "source": [
        "w_learned_vec"
      ],
      "metadata": {
        "colab": {
          "base_uri": "https://localhost:8080/"
        },
        "id": "0yh3V9u6IVOz",
        "outputId": "df94b722-8e7f-4d13-ca7a-9b95e33ec592"
      },
      "execution_count": 86,
      "outputs": [
        {
          "output_type": "execute_result",
          "data": {
            "text/plain": [
              "array([ 1.,  2.,  3.,  4.,  5.,  6.,  7.,  8.,  9., 10., 11., 12., 13.,\n",
              "       14., 15., 16., 17., 18., 19., 20., 21.])"
            ]
          },
          "metadata": {},
          "execution_count": 86
        }
      ]
    },
    {
      "cell_type": "code",
      "metadata": {
        "id": "5MG6FRXSCy2K",
        "colab": {
          "base_uri": "https://localhost:8080/"
        },
        "outputId": "33cd33ad-e8eb-4596-8a7b-9b6d75720919"
      },
      "source": [
        "# Study the learning curve of small, medium, large weights\n",
        "learning_curves = {}\n",
        "learning_rates = [1e-5, 0.3, 0.335]\n",
        "for learning_rate in learning_rates:\n",
        "  w_current_init = np.copy(w_init)\n",
        "  print ('\\n\\nlearning rate: {}'.format(learning_rate))\n",
        "  w_learned, losses = gradient_decent(w_current_init, X, y, learning_rate, 1000)\n",
        "  learning_curves[str(learning_rate)] = losses"
      ],
      "execution_count": 87,
      "outputs": [
        {
          "output_type": "stream",
          "name": "stdout",
          "text": [
            "\n",
            "\n",
            "learning rate: 1e-05\n",
            "step: 100, Loss: 8237.643614015027\n",
            "step: 200, Loss: 8139.282676214713\n",
            "step: 300, Loss: 8042.100574852138\n",
            "step: 400, Loss: 7946.083180979078\n",
            "step: 500, Loss: 7851.216534990017\n",
            "step: 600, Loss: 7757.486844592504\n",
            "step: 700, Loss: 7664.880482801802\n",
            "step: 800, Loss: 7573.383985959605\n",
            "step: 900, Loss: 7482.984051776476\n",
            "step: 1000, Loss: 7393.667537397762\n",
            "\n",
            "\n",
            "learning rate: 0.3\n",
            "step: 100, Loss: 0.1246920836583003\n",
            "step: 200, Loss: 0.0008262250849848201\n",
            "step: 300, Loss: 9.03069961820491e-06\n",
            "step: 400, Loss: 4.331901166881729e-07\n",
            "step: 500, Loss: 1.4510453458472527e-07\n",
            "step: 600, Loss: 6.228398958711418e-08\n",
            "step: 700, Loss: 2.697037766415978e-08\n",
            "step: 800, Loss: 1.1682116441165979e-08\n",
            "step: 900, Loss: 5.0601126028809235e-09\n",
            "step: 1000, Loss: 2.1917901712224816e-09\n",
            "\n",
            "\n",
            "learning rate: 0.335\n",
            "step: 100, Loss: 406268.7268146687\n",
            "step: 200, Loss: 19872394.715294182\n",
            "step: 300, Loss: 972046605.3681078\n",
            "step: 400, Loss: 47547093169.06618\n",
            "step: 500, Loss: 2325738350757.098\n",
            "step: 600, Loss: 113762135930140.73\n",
            "step: 700, Loss: 5564608575670090.0\n",
            "step: 800, Loss: 2.721895852890477e+17\n",
            "step: 900, Loss: 1.3313994925672196e+19\n",
            "step: 1000, Loss: 6.512463020676683e+20\n"
          ]
        }
      ]
    },
    {
      "cell_type": "code",
      "metadata": {
        "id": "c5GhdC-8o0RA",
        "colab": {
          "base_uri": "https://localhost:8080/",
          "height": 424
        },
        "outputId": "6e160ec2-269b-4eda-a360-ffa09c96fd80"
      },
      "source": [
        "import matplotlib.pyplot as plt\n",
        "import pandas as pd\n",
        "\n",
        "df_losses = pd.DataFrame(learning_curves).reset_index()\n",
        "df_losses.columns = ['index'] + ['lr=' + str(x) for x in learning_rates]\n",
        "\n",
        "df_losses"
      ],
      "execution_count": 88,
      "outputs": [
        {
          "output_type": "execute_result",
          "data": {
            "text/html": [
              "\n",
              "  <div id=\"df-ba60a708-756e-4d5a-b5cf-b3787712672a\">\n",
              "    <div class=\"colab-df-container\">\n",
              "      <div>\n",
              "<style scoped>\n",
              "    .dataframe tbody tr th:only-of-type {\n",
              "        vertical-align: middle;\n",
              "    }\n",
              "\n",
              "    .dataframe tbody tr th {\n",
              "        vertical-align: top;\n",
              "    }\n",
              "\n",
              "    .dataframe thead th {\n",
              "        text-align: right;\n",
              "    }\n",
              "</style>\n",
              "<table border=\"1\" class=\"dataframe\">\n",
              "  <thead>\n",
              "    <tr style=\"text-align: right;\">\n",
              "      <th></th>\n",
              "      <th>index</th>\n",
              "      <th>lr=1e-05</th>\n",
              "      <th>lr=0.3</th>\n",
              "      <th>lr=0.335</th>\n",
              "    </tr>\n",
              "  </thead>\n",
              "  <tbody>\n",
              "    <tr>\n",
              "      <th>0</th>\n",
              "      <td>0</td>\n",
              "      <td>9.028362</td>\n",
              "      <td>8.605339</td>\n",
              "      <td>9.067013</td>\n",
              "    </tr>\n",
              "    <tr>\n",
              "      <th>1</th>\n",
              "      <td>1</td>\n",
              "      <td>9.028242</td>\n",
              "      <td>8.182936</td>\n",
              "      <td>9.105580</td>\n",
              "    </tr>\n",
              "    <tr>\n",
              "      <th>2</th>\n",
              "      <td>2</td>\n",
              "      <td>9.028122</td>\n",
              "      <td>7.761595</td>\n",
              "      <td>9.144180</td>\n",
              "    </tr>\n",
              "    <tr>\n",
              "      <th>3</th>\n",
              "      <td>3</td>\n",
              "      <td>9.028002</td>\n",
              "      <td>7.341778</td>\n",
              "      <td>9.182809</td>\n",
              "    </tr>\n",
              "    <tr>\n",
              "      <th>4</th>\n",
              "      <td>4</td>\n",
              "      <td>9.027882</td>\n",
              "      <td>6.924140</td>\n",
              "      <td>9.221464</td>\n",
              "    </tr>\n",
              "    <tr>\n",
              "      <th>...</th>\n",
              "      <td>...</td>\n",
              "      <td>...</td>\n",
              "      <td>...</td>\n",
              "      <td>...</td>\n",
              "    </tr>\n",
              "    <tr>\n",
              "      <th>995</th>\n",
              "      <td>995</td>\n",
              "      <td>8.908859</td>\n",
              "      <td>-19.905080</td>\n",
              "      <td>47.769817</td>\n",
              "    </tr>\n",
              "    <tr>\n",
              "      <th>996</th>\n",
              "      <td>996</td>\n",
              "      <td>8.908739</td>\n",
              "      <td>-19.913447</td>\n",
              "      <td>47.808717</td>\n",
              "    </tr>\n",
              "    <tr>\n",
              "      <th>997</th>\n",
              "      <td>997</td>\n",
              "      <td>8.908619</td>\n",
              "      <td>-19.921814</td>\n",
              "      <td>47.847618</td>\n",
              "    </tr>\n",
              "    <tr>\n",
              "      <th>998</th>\n",
              "      <td>998</td>\n",
              "      <td>8.908499</td>\n",
              "      <td>-19.930180</td>\n",
              "      <td>47.886519</td>\n",
              "    </tr>\n",
              "    <tr>\n",
              "      <th>999</th>\n",
              "      <td>999</td>\n",
              "      <td>8.908379</td>\n",
              "      <td>-19.938547</td>\n",
              "      <td>47.925420</td>\n",
              "    </tr>\n",
              "  </tbody>\n",
              "</table>\n",
              "<p>1000 rows × 4 columns</p>\n",
              "</div>\n",
              "      <button class=\"colab-df-convert\" onclick=\"convertToInteractive('df-ba60a708-756e-4d5a-b5cf-b3787712672a')\"\n",
              "              title=\"Convert this dataframe to an interactive table.\"\n",
              "              style=\"display:none;\">\n",
              "        \n",
              "  <svg xmlns=\"http://www.w3.org/2000/svg\" height=\"24px\"viewBox=\"0 0 24 24\"\n",
              "       width=\"24px\">\n",
              "    <path d=\"M0 0h24v24H0V0z\" fill=\"none\"/>\n",
              "    <path d=\"M18.56 5.44l.94 2.06.94-2.06 2.06-.94-2.06-.94-.94-2.06-.94 2.06-2.06.94zm-11 1L8.5 8.5l.94-2.06 2.06-.94-2.06-.94L8.5 2.5l-.94 2.06-2.06.94zm10 10l.94 2.06.94-2.06 2.06-.94-2.06-.94-.94-2.06-.94 2.06-2.06.94z\"/><path d=\"M17.41 7.96l-1.37-1.37c-.4-.4-.92-.59-1.43-.59-.52 0-1.04.2-1.43.59L10.3 9.45l-7.72 7.72c-.78.78-.78 2.05 0 2.83L4 21.41c.39.39.9.59 1.41.59.51 0 1.02-.2 1.41-.59l7.78-7.78 2.81-2.81c.8-.78.8-2.07 0-2.86zM5.41 20L4 18.59l7.72-7.72 1.47 1.35L5.41 20z\"/>\n",
              "  </svg>\n",
              "      </button>\n",
              "      \n",
              "  <style>\n",
              "    .colab-df-container {\n",
              "      display:flex;\n",
              "      flex-wrap:wrap;\n",
              "      gap: 12px;\n",
              "    }\n",
              "\n",
              "    .colab-df-convert {\n",
              "      background-color: #E8F0FE;\n",
              "      border: none;\n",
              "      border-radius: 50%;\n",
              "      cursor: pointer;\n",
              "      display: none;\n",
              "      fill: #1967D2;\n",
              "      height: 32px;\n",
              "      padding: 0 0 0 0;\n",
              "      width: 32px;\n",
              "    }\n",
              "\n",
              "    .colab-df-convert:hover {\n",
              "      background-color: #E2EBFA;\n",
              "      box-shadow: 0px 1px 2px rgba(60, 64, 67, 0.3), 0px 1px 3px 1px rgba(60, 64, 67, 0.15);\n",
              "      fill: #174EA6;\n",
              "    }\n",
              "\n",
              "    [theme=dark] .colab-df-convert {\n",
              "      background-color: #3B4455;\n",
              "      fill: #D2E3FC;\n",
              "    }\n",
              "\n",
              "    [theme=dark] .colab-df-convert:hover {\n",
              "      background-color: #434B5C;\n",
              "      box-shadow: 0px 1px 3px 1px rgba(0, 0, 0, 0.15);\n",
              "      filter: drop-shadow(0px 1px 2px rgba(0, 0, 0, 0.3));\n",
              "      fill: #FFFFFF;\n",
              "    }\n",
              "  </style>\n",
              "\n",
              "      <script>\n",
              "        const buttonEl =\n",
              "          document.querySelector('#df-ba60a708-756e-4d5a-b5cf-b3787712672a button.colab-df-convert');\n",
              "        buttonEl.style.display =\n",
              "          google.colab.kernel.accessAllowed ? 'block' : 'none';\n",
              "\n",
              "        async function convertToInteractive(key) {\n",
              "          const element = document.querySelector('#df-ba60a708-756e-4d5a-b5cf-b3787712672a');\n",
              "          const dataTable =\n",
              "            await google.colab.kernel.invokeFunction('convertToInteractive',\n",
              "                                                     [key], {});\n",
              "          if (!dataTable) return;\n",
              "\n",
              "          const docLinkHtml = 'Like what you see? Visit the ' +\n",
              "            '<a target=\"_blank\" href=https://colab.research.google.com/notebooks/data_table.ipynb>data table notebook</a>'\n",
              "            + ' to learn more about interactive tables.';\n",
              "          element.innerHTML = '';\n",
              "          dataTable['output_type'] = 'display_data';\n",
              "          await google.colab.output.renderOutput(dataTable, element);\n",
              "          const docLink = document.createElement('div');\n",
              "          docLink.innerHTML = docLinkHtml;\n",
              "          element.appendChild(docLink);\n",
              "        }\n",
              "      </script>\n",
              "    </div>\n",
              "  </div>\n",
              "  "
            ],
            "text/plain": [
              "     index  lr=1e-05     lr=0.3   lr=0.335\n",
              "0        0  9.028362   8.605339   9.067013\n",
              "1        1  9.028242   8.182936   9.105580\n",
              "2        2  9.028122   7.761595   9.144180\n",
              "3        3  9.028002   7.341778   9.182809\n",
              "4        4  9.027882   6.924140   9.221464\n",
              "..     ...       ...        ...        ...\n",
              "995    995  8.908859 -19.905080  47.769817\n",
              "996    996  8.908739 -19.913447  47.808717\n",
              "997    997  8.908619 -19.921814  47.847618\n",
              "998    998  8.908499 -19.930180  47.886519\n",
              "999    999  8.908379 -19.938547  47.925420\n",
              "\n",
              "[1000 rows x 4 columns]"
            ]
          },
          "metadata": {},
          "execution_count": 88
        }
      ]
    },
    {
      "cell_type": "code",
      "metadata": {
        "id": "cY5njYCzZi3u",
        "colab": {
          "base_uri": "https://localhost:8080/",
          "height": 530
        },
        "outputId": "a004d09a-952d-4d0e-d4f4-ab83d4801447"
      },
      "source": [
        "plt.figure(figsize=(10, 8))\n",
        "\n",
        "for lr in learning_rates:\n",
        "  plt.plot('index', 'lr={}'.format(lr), data=df_losses)\n",
        "  \n",
        "plt.title('Comparison of learning rate')\n",
        "plt.xlabel('Number of steps')\n",
        "plt.ylabel('Loss')\n",
        "plt.legend()"
      ],
      "execution_count": 89,
      "outputs": [
        {
          "output_type": "execute_result",
          "data": {
            "text/plain": [
              "<matplotlib.legend.Legend at 0x7f01d099acd0>"
            ]
          },
          "metadata": {},
          "execution_count": 89
        },
        {
          "output_type": "display_data",
          "data": {
            "image/png": "[encoded data removed]",
            "text/plain": [
              "<Figure size 720x576 with 1 Axes>"
            ]
          },
          "metadata": {
            "needs_background": "light"
          }
        }
      ]
    },
    {
      "cell_type": "markdown",
      "metadata": {
        "id": "M9z-gqls_1jr"
      },
      "source": [
        "## Closed form solution (Analytical solution)\n",
        "Let $\\mathbf{X} \\in R ^{n \\times d}$ be the feature matrix, $\\mathbf{w}$ be the $d$ dimensional weight vector and $\\mathbf{y}$ be the $n$ dimensional label vector. We can compute the optimal weight vector $\\mathbf{w}^*$ as follows.\n",
        "\n",
        "Let the cost function $J(\\mathbf{w})=||\\mathbf{Xw}-\\mathbf{y}||_2^2 = \\mathbf{w}^T(\\mathbf{X}^T\\mathbf{X})\\mathbf{w}-2\\mathbf{y}^T\\mathbf{Xw} + ||\\mathbf{y}||_2^2$\n",
        "\n",
        "Note: $\\displaystyle \\frac{\\partial (\\mathbf{AX})}{\\partial \\mathbf{X}}=\\mathbf{A}^T$ and $\\displaystyle \\frac{\\partial (\\mathbf{X}^T\\mathbf{AX})}{\\partial \\mathbf{X}} = \\mathbf{AX}+\\mathbf{A}^T\\mathbf{X}$\n",
        "\n",
        "Therefore, $\\displaystyle \\frac{\\partial}{\\partial \\mathbf{w}}J(\\mathbf{w}) = 2\\mathbf{X}^T\\mathbf{Xw} - 2\\mathbf{X}^T\\mathbf{y}$\n",
        "\n",
        "Setting $\\displaystyle \\frac{\\partial}{\\partial \\mathbf{w}}J(\\mathbf{w} = 0)$, we have: $\\mathbf{X}^T\\mathbf{Xw^*} = \\mathbf{X}^T\\mathbf{y} \\Rightarrow \\mathbf{w}^* = (\\mathbf{X}^T\\mathbf{X})^{-1}\\mathbf{X}^T\\mathbf{y}$"
      ]
    },
    {
      "cell_type": "code",
      "metadata": {
        "id": "ERZENvyuNiHM"
      },
      "source": [
        "# closed form solution\n",
        "W_learned = np.dot(np.dot(np.linalg.inv(np.dot(np.transpose(X), X)), np.transpose(X)), y)"
      ],
      "execution_count": 90,
      "outputs": []
    },
    {
      "cell_type": "code",
      "metadata": {
        "id": "WYb3lYn4ne_w",
        "colab": {
          "base_uri": "https://localhost:8080/"
        },
        "outputId": "fc1a6e62-9def-4a64-f9f5-c5f891ee5d60"
      },
      "source": [
        "W_learned"
      ],
      "execution_count": 91,
      "outputs": [
        {
          "output_type": "execute_result",
          "data": {
            "text/plain": [
              "array([ 1.,  2.,  3.,  4.,  5.,  6.,  7.,  8.,  9., 10., 11., 12., 13.,\n",
              "       14., 15., 16., 17., 18., 19., 20., 21.])"
            ]
          },
          "metadata": {},
          "execution_count": 91
        }
      ]
    },
    {
      "cell_type": "code",
      "metadata": {
        "id": "59IbTvZGnf2N"
      },
      "source": [
        "# Solved using Tensorflow\n",
        "X_tf = tf.placeholder(tf.float64, shape=(n_data, n_feature + 1))\n",
        "y_tf = tf.placeholder(tf.float64, shape=(n_data, 1))\n",
        "w_tf = tf.Variable(np.random.normal(0, 1, (w.shape[0], 1)), name=\"w_tf\") \n",
        "\n",
        "learning_rate = 1\n",
        "training_epochs = 5000"
      ],
      "execution_count": 92,
      "outputs": []
    },
    {
      "cell_type": "code",
      "metadata": {
        "id": "E6NWpmzvO8xG"
      },
      "source": [
        "# Hypothesis \n",
        "y_pred =tf.matmul(X_tf, w_tf)\n",
        "  \n",
        "# Mean Squared Error Cost Function \n",
        "cost = tf.reduce_sum(tf.pow(y_pred - y_tf, 2)) /  (2 * n_data) \n",
        "  \n",
        "# Gradient Descent Optimizer \n",
        "# optimizer = tf.train.GradientDescentOptimizer(learning_rate).minimize(cost) \n",
        "optimizer = tf.train.AdamOptimizer(learning_rate).minimize(cost)\n",
        "\n",
        "# Global Variables Initializer \n",
        "init = tf.global_variables_initializer() "
      ],
      "execution_count": 93,
      "outputs": []
    },
    {
      "cell_type": "code",
      "metadata": {
        "id": "QtcYkEegROef",
        "colab": {
          "base_uri": "https://localhost:8080/"
        },
        "outputId": "a95ae6dd-a9c3-4fb1-bdd3-449bb41ec972"
      },
      "source": [
        "# Starting the Tensorflow Session \n",
        "with tf.Session() as sess: \n",
        "    # Initializing the Variables \n",
        "    sess.run(init) \n",
        "      \n",
        "    # Iterating through all the epochs \n",
        "    for epoch in range(training_epochs): \n",
        "        # Feeding each data point into the optimizer using Feed Dictionary \n",
        "        sess.run(optimizer, feed_dict = {X_tf:X, y_tf:y.reshape((n_data, 1))}) \n",
        "        # Displaying the result after every 100 epochs \n",
        "        if (epoch + 1) % 100 == 0: \n",
        "            # Calculating the cost a every epoch \n",
        "            c = sess.run(cost, feed_dict = {X_tf:X, y_tf:y.reshape((n_data, 1))}) \n",
        "            print(\"Epoch\", (epoch + 1), \": cost =\", c)\n",
        "      \n",
        "    # Storing necessary values to be used outside the Session \n",
        "    training_cost = sess.run(cost, feed_dict ={X_tf:X, y_tf: y.reshape((n_data, 1))}) \n",
        "    weight = sess.run(w_tf) "
      ],
      "execution_count": 94,
      "outputs": [
        {
          "output_type": "stream",
          "name": "stdout",
          "text": [
            "Epoch 100 : cost = 13.670003382870497\n",
            "Epoch 200 : cost = 3.223718517275688\n",
            "Epoch 300 : cost = 1.0585486550258831\n",
            "Epoch 400 : cost = 0.6744250121480452\n",
            "Epoch 500 : cost = 0.507254715772893\n",
            "Epoch 600 : cost = 0.37619348961615423\n",
            "Epoch 700 : cost = 0.2696952501385247\n",
            "Epoch 800 : cost = 0.18663382476709442\n",
            "Epoch 900 : cost = 0.12462246175728925\n",
            "Epoch 1000 : cost = 0.08024872242461259\n",
            "Epoch 1100 : cost = 0.049792582831433965\n",
            "Epoch 1200 : cost = 0.029739835790418157\n",
            "Epoch 1300 : cost = 0.01707828890103354\n",
            "Epoch 1400 : cost = 0.009416581603485337\n",
            "Epoch 1500 : cost = 0.004977669386396116\n",
            "Epoch 1600 : cost = 0.0025183373904924056\n",
            "Epoch 1700 : cost = 0.0012171902508317629\n",
            "Epoch 1800 : cost = 0.0005609065017435588\n",
            "Epoch 1900 : cost = 0.0002459053056371587\n",
            "Epoch 2000 : cost = 0.00010232296631797835\n",
            "Epoch 2100 : cost = 4.0309692409009784e-05\n",
            "Epoch 2200 : cost = 1.4993297382340892e-05\n",
            "Epoch 2300 : cost = 5.2501087003354044e-06\n",
            "Epoch 2400 : cost = 1.7252875825031226e-06\n",
            "Epoch 2500 : cost = 5.3029250197057e-07\n",
            "Epoch 2600 : cost = 1.5190146651177471e-07\n",
            "Epoch 2700 : cost = 4.039406375522426e-08\n",
            "Epoch 2800 : cost = 9.930580164090715e-09\n",
            "Epoch 2900 : cost = 2.2469379696487592e-09\n",
            "Epoch 3000 : cost = 4.656704620968332e-10\n",
            "Epoch 3100 : cost = 8.794068964861389e-11\n",
            "Epoch 3200 : cost = 1.5048827793360723e-11\n",
            "Epoch 3300 : cost = 2.319549361925705e-12\n",
            "Epoch 3400 : cost = 3.199395688842506e-13\n",
            "Epoch 3500 : cost = 3.921361341645434e-14\n",
            "Epoch 3600 : cost = 4.238292981544802e-15\n",
            "Epoch 3700 : cost = 4.0060771836185e-16\n",
            "Epoch 3800 : cost = 3.281577900126593e-17\n",
            "Epoch 3900 : cost = 2.3065882890828125e-18\n",
            "Epoch 4000 : cost = 1.3761005784604792e-19\n",
            "Epoch 4100 : cost = 6.884690429893467e-21\n",
            "Epoch 4200 : cost = 2.84938378520839e-22\n",
            "Epoch 4300 : cost = 9.628785520081345e-24\n",
            "Epoch 4400 : cost = 2.614907545819961e-25\n",
            "Epoch 4500 : cost = 5.6997914083732064e-27\n",
            "Epoch 4600 : cost = 1.2652066742296677e-28\n",
            "Epoch 4700 : cost = 1.2944891910314716e-28\n",
            "Epoch 4800 : cost = 1.2944891910314716e-28\n",
            "Epoch 4900 : cost = 1.2944891910314716e-28\n",
            "Epoch 5000 : cost = 1.2944891910314716e-28\n"
          ]
        }
      ]
    },
    {
      "cell_type": "code",
      "metadata": {
        "id": "64BB0tiaR7rb",
        "colab": {
          "base_uri": "https://localhost:8080/"
        },
        "outputId": "cf9abb94-f639-471d-e049-c51aa2cfb5de"
      },
      "source": [
        "weight"
      ],
      "execution_count": 95,
      "outputs": [
        {
          "output_type": "execute_result",
          "data": {
            "text/plain": [
              "array([[ 1.],\n",
              "       [ 2.],\n",
              "       [ 3.],\n",
              "       [ 4.],\n",
              "       [ 5.],\n",
              "       [ 6.],\n",
              "       [ 7.],\n",
              "       [ 8.],\n",
              "       [ 9.],\n",
              "       [10.],\n",
              "       [11.],\n",
              "       [12.],\n",
              "       [13.],\n",
              "       [14.],\n",
              "       [15.],\n",
              "       [16.],\n",
              "       [17.],\n",
              "       [18.],\n",
              "       [19.],\n",
              "       [20.],\n",
              "       [21.]])"
            ]
          },
          "metadata": {},
          "execution_count": 95
        }
      ]
    },
    {
      "cell_type": "markdown",
      "source": [
        "## Logistic Regression"
      ],
      "metadata": {
        "id": "s500WlXOj6JP"
      }
    },
    {
      "cell_type": "code",
      "source": [
        "from google.colab import drive\n",
        "\n",
        "# Get the dataset\n",
        "drive.mount('/content/gdrive')"
      ],
      "metadata": {
        "colab": {
          "base_uri": "https://localhost:8080/"
        },
        "id": "8aMiRHjYJt2e",
        "outputId": "1ee41f2a-7523-475f-d4ab-4243bea9724e"
      },
      "execution_count": 97,
      "outputs": [
        {
          "output_type": "stream",
          "name": "stdout",
          "text": [
            "Mounted at /content/gdrive\n"
          ]
        }
      ]
    },
    {
      "cell_type": "code",
      "source": [
        "data = np.loadtxt('gdrive/My Drive/BT4222/week2/exam_score.csv', delimiter = ',')\n",
        "data[:10]"
      ],
      "metadata": {
        "colab": {
          "base_uri": "https://localhost:8080/"
        },
        "id": "uDnN6dDHkLoe",
        "outputId": "d958a489-0790-439b-fb9b-f1e51f8ebf0e"
      },
      "execution_count": 98,
      "outputs": [
        {
          "output_type": "execute_result",
          "data": {
            "text/plain": [
              "array([[34.62365962, 78.02469282,  0.        ],\n",
              "       [30.28671077, 43.89499752,  0.        ],\n",
              "       [35.84740877, 72.90219803,  0.        ],\n",
              "       [60.18259939, 86.3085521 ,  1.        ],\n",
              "       [79.03273605, 75.34437644,  1.        ],\n",
              "       [45.08327748, 56.31637178,  0.        ],\n",
              "       [61.10666454, 96.51142588,  1.        ],\n",
              "       [75.02474557, 46.55401354,  1.        ],\n",
              "       [76.0987867 , 87.42056972,  1.        ],\n",
              "       [84.43281996, 43.53339331,  1.        ]])"
            ]
          },
          "metadata": {},
          "execution_count": 98
        }
      ]
    },
    {
      "cell_type": "code",
      "source": [
        "# Add bias\n",
        "X = np.hstack((data[:, :2], np.ones((data.shape[0], 1))))\n",
        "y = data[:, 2].astype(int)"
      ],
      "metadata": {
        "id": "Q9jElp4rkZFw"
      },
      "execution_count": 99,
      "outputs": []
    },
    {
      "cell_type": "code",
      "source": [
        "from sklearn import linear_model, model_selection, metrics\n",
        "\n",
        "# Train / Test split\n",
        "X_train, X_test, y_train, y_test = model_selection.train_test_split(X, y, test_size=0.2, random_state=2022)"
      ],
      "metadata": {
        "id": "j2p2VTaTkg1i"
      },
      "execution_count": 103,
      "outputs": []
    },
    {
      "cell_type": "code",
      "source": [
        "# Fit a logistic regression model with the training set\n",
        "estimator = linear_model.LogisticRegression(fit_intercept=False, C=500)\n",
        "estimator.fit(X_train, y_train)"
      ],
      "metadata": {
        "colab": {
          "base_uri": "https://localhost:8080/"
        },
        "id": "4GmQPY2Zkr39",
        "outputId": "94d89b7a-5475-4772-e390-1c0808a24bca"
      },
      "execution_count": 104,
      "outputs": [
        {
          "output_type": "execute_result",
          "data": {
            "text/plain": [
              "LogisticRegression(C=500, fit_intercept=False)"
            ]
          },
          "metadata": {},
          "execution_count": 104
        }
      ]
    },
    {
      "cell_type": "code",
      "source": [
        "# Perform prediction on the test set using trained logistic regression model\n",
        "y_pred = estimator.predict(X_test)\n",
        "print('accuracy:', metrics.accuracy_score(y_test, y_pred))"
      ],
      "metadata": {
        "colab": {
          "base_uri": "https://localhost:8080/"
        },
        "id": "uYj0CuSrkv7L",
        "outputId": "24aab042-b529-4e1a-95f8-04d7ebcbae15"
      },
      "execution_count": 107,
      "outputs": [
        {
          "output_type": "stream",
          "name": "stdout",
          "text": [
            "accuracy: 0.85\n"
          ]
        }
      ]
    },
    {
      "cell_type": "code",
      "source": [
        "estimator.coef_"
      ],
      "metadata": {
        "colab": {
          "base_uri": "https://localhost:8080/"
        },
        "id": "B8zy4WFAkyWz",
        "outputId": "ba94e4ce-773c-4dfc-fe6e-647fa2faedc1"
      },
      "execution_count": 106,
      "outputs": [
        {
          "output_type": "execute_result",
          "data": {
            "text/plain": [
              "array([[  0.19236471,   0.18999937, -23.57193178]])"
            ]
          },
          "metadata": {},
          "execution_count": 106
        }
      ]
    },
    {
      "cell_type": "markdown",
      "source": [
        "Given $\\mathbf{X}$ and $\\mathbf{y}$, objective: compute $\\mathbf{w}$\n",
        "\n",
        "$\\displaystyle \\text{Loss}(w_0, w_1, \\cdots, w_k) = \\frac{1}{n}\\sum_{i=1}^n\\left ( -y_i\\log\\hat{y_i} - (1-y_i)\\log(1-\\hat{y_i} ) \\right )$, where $\\hat{y_i} = \\frac{1}{1+ \\exp{( -\\sum_{j=0}^kw_jx_{ij}})}$ \n",
        "\n",
        "$\\displaystyle \\frac{\\partial }{\\partial w_j} \\text{Loss} (w_0, w_1, \\cdots, w_k) = \\frac{1}{n} \\sum_{i=1}^n \\left ( -\\frac{y_i}{\\hat{y_i}} - \\frac{1-y_i}{1-\\hat{y_i}} (-1)\\right ) \\frac{\\partial }{\\partial w_j} \\hat{y_i} = \\frac{1}{n} \\sum_{i=1}^n \\left ( -\\frac{y_i}{\\hat{y_i}} - \\frac{1-y_i}{1-\\hat{y_i}} (-1)\\right ) \\hat{y_i} (1-\\hat{y_i})\\frac{\\partial }{\\partial w_j}\\sum_{j=0}^kw_jx_{ij}=\\frac{1}{n} \\sum_{i=1}^n (\\hat{y_i} - y_i)x_{ij} $\n",
        "\n",
        "Recall the gradient for linear regress:\n",
        "\n",
        "$\\displaystyle \\frac{\\partial }{\\partial w_j} \\text{Loss} (w_0, w_1, \\cdots, w_k) = \\frac{1}{n} \\sum_{i=1}^n \\left ( \\sum_{j=0}^kw_jx_{ij}-y_i\\right ) \\frac{\\partial }{\\partial w_j} \\left ( \\sum_{j=0}^kw_jx_{ij}-y_i\\right ) = \\frac{1}{n} \\sum_{i=1}^n \\left ( \\sum_{j=0}^kw_jx_{ij}-y_i\\right ) x_{ij } $"
      ],
      "metadata": {
        "id": "i7SIYCv-lFwF"
      }
    },
    {
      "cell_type": "code",
      "source": [
        "def logistic(x):\n",
        "    return 1.0 / (1.0 + np.exp(-x))\n",
        "\n",
        "def cost_LR(X, y, w):\n",
        "    log_ = np.vectorize(np.log)(np.vectorize(logistic)(np.dot(X, w)))\n",
        "    log_1 = np.vectorize(lambda x: np.log(1-x))(np.vectorize(logistic)(np.dot(X, w)))\n",
        "    return - np.dot(y, log_) - np.dot(1 - y, log_1)\n",
        "\n",
        "def gradient_LR(X, y, w):\n",
        "    # compute y_hat \n",
        "    y_hat = np.vectorize(logistic)(np.dot(X, w))\n",
        "    return np.dot(np.transpose(X), y_hat - y) / X.shape[0]\n",
        "\n",
        "def gradient_descent_LR(X, y, w, learning_rate=0.0001, steps=500000):\n",
        "    freq = steps // 10\n",
        "    for step in range(steps):\n",
        "        w = w - (learning_rate * gradient_LR(X, y, w))        \n",
        "        if (step + 1) % freq == 0:\n",
        "            print (f\"step: {step+1}, Loss: {cost_LR(X, y, w)}\")\n",
        "    return w"
      ],
      "metadata": {
        "id": "OIjXK0ZQk3aG"
      },
      "execution_count": 111,
      "outputs": []
    },
    {
      "cell_type": "code",
      "source": [
        "w_init = np.random.normal(0, 1, X_train.shape[1])\n",
        "w_learned = gradient_descent_LR(X_train, y_train, w_init, 0.0018, 500000)"
      ],
      "metadata": {
        "colab": {
          "base_uri": "https://localhost:8080/"
        },
        "id": "dT-OWVYcxMhf",
        "outputId": "153a0564-69e6-4ca9-e5ce-155a4a5e43d7"
      },
      "execution_count": 113,
      "outputs": [
        {
          "output_type": "stream",
          "name": "stdout",
          "text": [
            "step: 50000, Loss: 57.90721561980958\n",
            "step: 100000, Loss: 29.295636076542067\n",
            "step: 150000, Loss: 21.644892271415344\n",
            "step: 200000, Loss: 20.395419453477956\n",
            "step: 250000, Loss: 19.529876085120748\n",
            "step: 300000, Loss: 18.894099569345396\n",
            "step: 350000, Loss: 18.407369094466535\n",
            "step: 400000, Loss: 18.023134551277135\n",
            "step: 450000, Loss: 17.712564209750965\n",
            "step: 500000, Loss: 17.45679275121075\n"
          ]
        }
      ]
    },
    {
      "cell_type": "code",
      "source": [
        "w_learned"
      ],
      "metadata": {
        "colab": {
          "base_uri": "https://localhost:8080/"
        },
        "id": "X-iStibvxnKU",
        "outputId": "908ea965-67a4-4949-cc11-f1b797009828"
      },
      "execution_count": 114,
      "outputs": [
        {
          "output_type": "execute_result",
          "data": {
            "text/plain": [
              "array([  0.1241067 ,   0.11811915, -14.85386706])"
            ]
          },
          "metadata": {},
          "execution_count": 114
        }
      ]
    },
    {
      "cell_type": "code",
      "source": [
        "color = ['red', 'green']\n",
        "y_train_color, y_test_color = [color[i] for i in y_train], [color[i] for i in y_test]\n",
        "\n",
        "plt.figure(figsize = (10, 8))\n",
        "ax = plt.gca()\n",
        "plt.scatter(X_train[:,0], X_train[:,1], c=y_train_color, marker='o')\n",
        "plt.scatter(X_test[:,0], X_test[:,1], c=y_test_color, marker='+')\n",
        "\n",
        "# plt.plot((f(x1), f(x2)), (x1, x2))\n",
        "# w1*x1 + w2*x2 + b = 0 => x1 = (-w2*x2 - b)/w1\n",
        "plt.plot((- estimator.coef_[0][1] * np.array((min(X_train[:,1]), max(X_train[:,1]))) - estimator.coef_[0][2]) / estimator.coef_[0][0], np.array((min(X_train[:,1]), max(X_train[:,1]))))\n",
        "plt.plot((- w_learned[1] * np.array((min(X_train[:,1]), max(X_train[:,1]))) - w_learned[2]) / w_learned[0], np.array((min(X_train[:,1]), max(X_train[:,1]))))\n",
        "\n",
        "ax.legend(['sklearn', 'manual'])"
      ],
      "metadata": {
        "colab": {
          "base_uri": "https://localhost:8080/",
          "height": 500
        },
        "id": "FvTt3TADxe5X",
        "outputId": "1b3fa116-1a9f-40c6-80b2-238138512ca7"
      },
      "execution_count": 115,
      "outputs": [
        {
          "output_type": "execute_result",
          "data": {
            "text/plain": [
              "<matplotlib.legend.Legend at 0x7f01cfc01fd0>"
            ]
          },
          "metadata": {},
          "execution_count": 115
        },
        {
          "output_type": "display_data",
          "data": {
            "image/png": "[encoded data removed]",
            "text/plain": [
              "<Figure size 720x576 with 1 Axes>"
            ]
          },
          "metadata": {
            "needs_background": "light"
          }
        }
      ]
    },
    {
      "cell_type": "code",
      "source": [
        ""
      ],
      "metadata": {
        "id": "0XE_oDyKyivt"
      },
      "execution_count": null,
      "outputs": []
    }
  ]
}